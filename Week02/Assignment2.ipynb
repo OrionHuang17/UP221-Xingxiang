{
 "cells": [
  {
   "cell_type": "markdown",
   "id": "f1c4719e-af9a-402d-91d0-d0d42361a1f0",
   "metadata": {},
   "source": [
    "# **Assignment 2 Data Exploration**"
   ]
  },
  {
   "cell_type": "markdown",
   "id": "1d9711b8-478a-4cf9-b6fc-0793707e4b77",
   "metadata": {},
   "source": [
    "## **Xingxiang Huang**"
   ]
  },
  {
   "cell_type": "markdown",
   "id": "8a19b677-8273-4821-bc72-acf779d24207",
   "metadata": {},
   "source": [
    "In this assignment, I checked the data types and basic characteristics of LA Metro Bike Share trip data. Major steps included checking dataset dimensions, visualizing trip durations, and analyzing passholder types. I also filtered trips longer than 10 minutes to identify patterns in extended usage."
   ]
  },
  {
   "cell_type": "markdown",
   "id": "ca6df54e-92d7-4cd9-9fd9-12d27ba2093b",
   "metadata": {},
   "source": [
    "### Import Required Libraries and Load Data"
   ]
  },
  {
   "cell_type": "code",
   "execution_count": 8,
   "id": "5116d1c0-eb13-48c9-b358-93ab4cde3d76",
   "metadata": {},
   "outputs": [],
   "source": [
    "import pandas as pd\n",
    "import matplotlib.pyplot as plt\n",
    "\n",
    "# Load the data\n",
    "file_path = 'metro-trips-2024-q1.csv'\n",
    "bike_data = pd.read_csv(file_path)\n"
   ]
  },
  {
   "cell_type": "markdown",
   "id": "59b9657e-ac3c-400e-aa3d-5f705ae2b26f",
   "metadata": {},
   "source": [
    "### Use `.shape` to Check Dimensions"
   ]
  },
  {
   "cell_type": "code",
   "execution_count": 9,
   "id": "04cab1e5-0f57-4620-96cb-776af586e578",
   "metadata": {},
   "outputs": [
    {
     "name": "stdout",
     "output_type": "stream",
     "text": [
      "Dataset dimensions: (119849, 15)\n"
     ]
    }
   ],
   "source": [
    "print(\"Dataset dimensions:\", bike_data.shape)"
   ]
  },
  {
   "cell_type": "markdown",
   "id": "f5ea1634-0ee0-4cd0-9ea3-9b8bbda3ae45",
   "metadata": {},
   "source": [
    "### Use `.info()` to View Summary"
   ]
  },
  {
   "cell_type": "code",
   "execution_count": 10,
   "id": "3d5b492d-8604-4380-9fd6-28a8a43d0f1f",
   "metadata": {},
   "outputs": [
    {
     "name": "stdout",
     "output_type": "stream",
     "text": [
      "<class 'pandas.core.frame.DataFrame'>\n",
      "RangeIndex: 119849 entries, 0 to 119848\n",
      "Data columns (total 15 columns):\n",
      " #   Column               Non-Null Count   Dtype  \n",
      "---  ------               --------------   -----  \n",
      " 0   trip_id              119849 non-null  int64  \n",
      " 1   duration             119849 non-null  int64  \n",
      " 2   start_time           119849 non-null  object \n",
      " 3   end_time             119849 non-null  object \n",
      " 4   start_station        119849 non-null  int64  \n",
      " 5   start_lat            119840 non-null  float64\n",
      " 6   start_lon            119840 non-null  float64\n",
      " 7   end_station          119849 non-null  int64  \n",
      " 8   end_lat              117663 non-null  float64\n",
      " 9   end_lon              117663 non-null  float64\n",
      " 10  bike_id              119849 non-null  int64  \n",
      " 11  plan_duration        119849 non-null  int64  \n",
      " 12  trip_route_category  119849 non-null  object \n",
      " 13  passholder_type      119849 non-null  object \n",
      " 14  bike_type            119849 non-null  object \n",
      "dtypes: float64(4), int64(6), object(5)\n",
      "memory usage: 13.7+ MB\n"
     ]
    }
   ],
   "source": [
    "bike_data.info()"
   ]
  },
  {
   "cell_type": "markdown",
   "id": "7dee5919-5b42-4b74-b9b9-714864220150",
   "metadata": {},
   "source": [
    "### Use `.head()` to Display the First Few Rows"
   ]
  },
  {
   "cell_type": "code",
   "execution_count": 11,
   "id": "088a63e2-4538-46f4-a87d-a371a1e6e5f1",
   "metadata": {},
   "outputs": [
    {
     "data": {
      "text/html": [
       "<div>\n",
       "<style scoped>\n",
       "    .dataframe tbody tr th:only-of-type {\n",
       "        vertical-align: middle;\n",
       "    }\n",
       "\n",
       "    .dataframe tbody tr th {\n",
       "        vertical-align: top;\n",
       "    }\n",
       "\n",
       "    .dataframe thead th {\n",
       "        text-align: right;\n",
       "    }\n",
       "</style>\n",
       "<table border=\"1\" class=\"dataframe\">\n",
       "  <thead>\n",
       "    <tr style=\"text-align: right;\">\n",
       "      <th></th>\n",
       "      <th>trip_id</th>\n",
       "      <th>duration</th>\n",
       "      <th>start_time</th>\n",
       "      <th>end_time</th>\n",
       "      <th>start_station</th>\n",
       "      <th>start_lat</th>\n",
       "      <th>start_lon</th>\n",
       "      <th>end_station</th>\n",
       "      <th>end_lat</th>\n",
       "      <th>end_lon</th>\n",
       "      <th>bike_id</th>\n",
       "      <th>plan_duration</th>\n",
       "      <th>trip_route_category</th>\n",
       "      <th>passholder_type</th>\n",
       "      <th>bike_type</th>\n",
       "    </tr>\n",
       "  </thead>\n",
       "  <tbody>\n",
       "    <tr>\n",
       "      <th>0</th>\n",
       "      <td>341828178</td>\n",
       "      <td>87</td>\n",
       "      <td>1/1/2024 0:10</td>\n",
       "      <td>1/1/2024 1:37</td>\n",
       "      <td>4515</td>\n",
       "      <td>34.039742</td>\n",
       "      <td>-118.442268</td>\n",
       "      <td>4564</td>\n",
       "      <td>34.035351</td>\n",
       "      <td>-118.434143</td>\n",
       "      <td>24169</td>\n",
       "      <td>30</td>\n",
       "      <td>One Way</td>\n",
       "      <td>Monthly Pass</td>\n",
       "      <td>electric</td>\n",
       "    </tr>\n",
       "    <tr>\n",
       "      <th>1</th>\n",
       "      <td>341816845</td>\n",
       "      <td>6</td>\n",
       "      <td>1/1/2024 0:12</td>\n",
       "      <td>1/1/2024 0:18</td>\n",
       "      <td>4602</td>\n",
       "      <td>34.164951</td>\n",
       "      <td>-118.363632</td>\n",
       "      <td>4603</td>\n",
       "      <td>34.152142</td>\n",
       "      <td>-118.361954</td>\n",
       "      <td>15430</td>\n",
       "      <td>1</td>\n",
       "      <td>One Way</td>\n",
       "      <td>Walk-up</td>\n",
       "      <td>standard</td>\n",
       "    </tr>\n",
       "    <tr>\n",
       "      <th>2</th>\n",
       "      <td>341817147</td>\n",
       "      <td>20</td>\n",
       "      <td>1/1/2024 0:15</td>\n",
       "      <td>1/1/2024 0:35</td>\n",
       "      <td>3064</td>\n",
       "      <td>34.046131</td>\n",
       "      <td>-118.257591</td>\n",
       "      <td>3081</td>\n",
       "      <td>34.031891</td>\n",
       "      <td>-118.250183</td>\n",
       "      <td>5913</td>\n",
       "      <td>30</td>\n",
       "      <td>One Way</td>\n",
       "      <td>Monthly Pass</td>\n",
       "      <td>standard</td>\n",
       "    </tr>\n",
       "    <tr>\n",
       "      <th>3</th>\n",
       "      <td>341817198</td>\n",
       "      <td>16</td>\n",
       "      <td>1/1/2024 0:22</td>\n",
       "      <td>1/1/2024 0:38</td>\n",
       "      <td>4543</td>\n",
       "      <td>33.957180</td>\n",
       "      <td>-118.451248</td>\n",
       "      <td>4583</td>\n",
       "      <td>33.976189</td>\n",
       "      <td>-118.418419</td>\n",
       "      <td>6132</td>\n",
       "      <td>1</td>\n",
       "      <td>One Way</td>\n",
       "      <td>Walk-up</td>\n",
       "      <td>standard</td>\n",
       "    </tr>\n",
       "    <tr>\n",
       "      <th>4</th>\n",
       "      <td>341816990</td>\n",
       "      <td>5</td>\n",
       "      <td>1/1/2024 0:23</td>\n",
       "      <td>1/1/2024 0:28</td>\n",
       "      <td>4518</td>\n",
       "      <td>34.057968</td>\n",
       "      <td>-118.299751</td>\n",
       "      <td>4587</td>\n",
       "      <td>34.060791</td>\n",
       "      <td>-118.309067</td>\n",
       "      <td>29601</td>\n",
       "      <td>365</td>\n",
       "      <td>One Way</td>\n",
       "      <td>Annual Pass</td>\n",
       "      <td>electric</td>\n",
       "    </tr>\n",
       "  </tbody>\n",
       "</table>\n",
       "</div>"
      ],
      "text/plain": [
       "     trip_id  duration     start_time       end_time  start_station  \\\n",
       "0  341828178        87  1/1/2024 0:10  1/1/2024 1:37           4515   \n",
       "1  341816845         6  1/1/2024 0:12  1/1/2024 0:18           4602   \n",
       "2  341817147        20  1/1/2024 0:15  1/1/2024 0:35           3064   \n",
       "3  341817198        16  1/1/2024 0:22  1/1/2024 0:38           4543   \n",
       "4  341816990         5  1/1/2024 0:23  1/1/2024 0:28           4518   \n",
       "\n",
       "   start_lat   start_lon  end_station    end_lat     end_lon  bike_id  \\\n",
       "0  34.039742 -118.442268         4564  34.035351 -118.434143    24169   \n",
       "1  34.164951 -118.363632         4603  34.152142 -118.361954    15430   \n",
       "2  34.046131 -118.257591         3081  34.031891 -118.250183     5913   \n",
       "3  33.957180 -118.451248         4583  33.976189 -118.418419     6132   \n",
       "4  34.057968 -118.299751         4587  34.060791 -118.309067    29601   \n",
       "\n",
       "   plan_duration trip_route_category passholder_type bike_type  \n",
       "0             30             One Way    Monthly Pass  electric  \n",
       "1              1             One Way         Walk-up  standard  \n",
       "2             30             One Way    Monthly Pass  standard  \n",
       "3              1             One Way         Walk-up  standard  \n",
       "4            365             One Way     Annual Pass  electric  "
      ]
     },
     "execution_count": 11,
     "metadata": {},
     "output_type": "execute_result"
    }
   ],
   "source": [
    "bike_data.head()"
   ]
  },
  {
   "cell_type": "markdown",
   "id": "006042f2-15c4-43e3-81e2-1aa13d80d572",
   "metadata": {},
   "source": [
    "### Create a Frequency Histogram of trip durations with `.plot()`"
   ]
  },
  {
   "cell_type": "code",
   "execution_count": 12,
   "id": "219235f7-53d3-4aac-81b0-d4f5bd253e0d",
   "metadata": {},
   "outputs": [
    {
     "data": {
      "image/png": "[encoded data removed]",
      "text/plain": [
       "<Figure size 640x480 with 1 Axes>"
      ]
     },
     "metadata": {},
     "output_type": "display_data"
    }
   ],
   "source": [
    "plt.hist(bike_data['duration'], bins=50, edgecolor='black')\n",
    "plt.title('Distribution of Trip Durations')\n",
    "plt.xlabel('Duration (seconds)')\n",
    "plt.ylabel('Frequency')\n",
    "plt.show()"
   ]
  },
  {
   "cell_type": "markdown",
   "id": "8caccc6c-449d-4b3c-9336-9a2d308f8ea5",
   "metadata": {},
   "source": [
    "### Use `.value_counts()` for Category Analysis"
   ]
  },
  {
   "cell_type": "code",
   "execution_count": 16,
   "id": "002c7a95-cfa4-4e0c-9c04-4a375efbbbd9",
   "metadata": {},
   "outputs": [
    {
     "name": "stdout",
     "output_type": "stream",
     "text": [
      "passholder_type\n",
      "Monthly Pass    80532\n",
      "Walk-up         19082\n",
      "Annual Pass     12092\n",
      "One Day Pass     8143\n",
      "Name: count, dtype: int64\n"
     ]
    },
    {
     "data": {
      "image/png": "[encoded data removed]",
      "text/plain": [
       "<Figure size 640x480 with 1 Axes>"
      ]
     },
     "metadata": {},
     "output_type": "display_data"
    }
   ],
   "source": [
    "user_type_counts = bike_data['passholder_type'].value_counts()\n",
    "print(user_type_counts)\n",
    "\n",
    "# Plot a pie chart for passholder types\n",
    "user_type_counts.plot(kind='pie', autopct='%1.1f%%', startangle=90)\n",
    "plt.title('Distribution of Passholder Types')\n",
    "plt.ylabel('')\n",
    "plt.show()\n"
   ]
  },
  {
   "cell_type": "markdown",
   "id": "c54c81b5-3927-41c7-aba0-ab31a4e2e4a0",
   "metadata": {},
   "source": [
    "### Run a Query to Filter Data"
   ]
  },
  {
   "cell_type": "markdown",
   "id": "88236214-203f-4218-9542-96efac145ac8",
   "metadata": {},
   "source": [
    "Filter Trips Longer than 10 Minutes(>600 seconds)"
   ]
  },
  {
   "cell_type": "code",
   "execution_count": 18,
   "id": "2e5014cc-97cc-4ed9-8edd-6406d4b685d7",
   "metadata": {},
   "outputs": [
    {
     "name": "stdout",
     "output_type": "stream",
     "text": [
      "Number of trips longer than 10 minutes: 558\n"
     ]
    },
    {
     "data": {
      "text/html": [
       "<div>\n",
       "<style scoped>\n",
       "    .dataframe tbody tr th:only-of-type {\n",
       "        vertical-align: middle;\n",
       "    }\n",
       "\n",
       "    .dataframe tbody tr th {\n",
       "        vertical-align: top;\n",
       "    }\n",
       "\n",
       "    .dataframe thead th {\n",
       "        text-align: right;\n",
       "    }\n",
       "</style>\n",
       "<table border=\"1\" class=\"dataframe\">\n",
       "  <thead>\n",
       "    <tr style=\"text-align: right;\">\n",
       "      <th></th>\n",
       "      <th>trip_id</th>\n",
       "      <th>duration</th>\n",
       "      <th>start_time</th>\n",
       "      <th>end_time</th>\n",
       "      <th>start_station</th>\n",
       "      <th>start_lat</th>\n",
       "      <th>start_lon</th>\n",
       "      <th>end_station</th>\n",
       "      <th>end_lat</th>\n",
       "      <th>end_lon</th>\n",
       "      <th>bike_id</th>\n",
       "      <th>plan_duration</th>\n",
       "      <th>trip_route_category</th>\n",
       "      <th>passholder_type</th>\n",
       "      <th>bike_type</th>\n",
       "    </tr>\n",
       "  </thead>\n",
       "  <tbody>\n",
       "    <tr>\n",
       "      <th>46</th>\n",
       "      <td>342192543</td>\n",
       "      <td>1440</td>\n",
       "      <td>1/1/2024 1:48</td>\n",
       "      <td>1/2/2024 9:10</td>\n",
       "      <td>3027</td>\n",
       "      <td>34.049980</td>\n",
       "      <td>-118.247162</td>\n",
       "      <td>3000</td>\n",
       "      <td>NaN</td>\n",
       "      <td>NaN</td>\n",
       "      <td>22219</td>\n",
       "      <td>1</td>\n",
       "      <td>One Way</td>\n",
       "      <td>Walk-up</td>\n",
       "      <td>electric</td>\n",
       "    </tr>\n",
       "    <tr>\n",
       "      <th>73</th>\n",
       "      <td>342053085</td>\n",
       "      <td>858</td>\n",
       "      <td>1/1/2024 3:20</td>\n",
       "      <td>1/1/2024 17:38</td>\n",
       "      <td>4483</td>\n",
       "      <td>34.100700</td>\n",
       "      <td>-118.259117</td>\n",
       "      <td>4455</td>\n",
       "      <td>34.109360</td>\n",
       "      <td>-118.271812</td>\n",
       "      <td>20120</td>\n",
       "      <td>1</td>\n",
       "      <td>One Way</td>\n",
       "      <td>One Day Pass</td>\n",
       "      <td>standard</td>\n",
       "    </tr>\n",
       "    <tr>\n",
       "      <th>185</th>\n",
       "      <td>342255606</td>\n",
       "      <td>1440</td>\n",
       "      <td>1/1/2024 10:45</td>\n",
       "      <td>1/2/2024 14:15</td>\n",
       "      <td>4566</td>\n",
       "      <td>34.023392</td>\n",
       "      <td>-118.399223</td>\n",
       "      <td>4558</td>\n",
       "      <td>34.025688</td>\n",
       "      <td>-118.395302</td>\n",
       "      <td>21930</td>\n",
       "      <td>1</td>\n",
       "      <td>One Way</td>\n",
       "      <td>Walk-up</td>\n",
       "      <td>electric</td>\n",
       "    </tr>\n",
       "    <tr>\n",
       "      <th>203</th>\n",
       "      <td>342488299</td>\n",
       "      <td>1440</td>\n",
       "      <td>1/1/2024 11:05</td>\n",
       "      <td>1/3/2024 9:56</td>\n",
       "      <td>4544</td>\n",
       "      <td>33.928459</td>\n",
       "      <td>-118.435204</td>\n",
       "      <td>3000</td>\n",
       "      <td>NaN</td>\n",
       "      <td>NaN</td>\n",
       "      <td>24843</td>\n",
       "      <td>1</td>\n",
       "      <td>One Way</td>\n",
       "      <td>Walk-up</td>\n",
       "      <td>electric</td>\n",
       "    </tr>\n",
       "    <tr>\n",
       "      <th>331</th>\n",
       "      <td>342138627</td>\n",
       "      <td>833</td>\n",
       "      <td>1/1/2024 12:29</td>\n",
       "      <td>1/2/2024 2:22</td>\n",
       "      <td>4214</td>\n",
       "      <td>33.995560</td>\n",
       "      <td>-118.481552</td>\n",
       "      <td>4214</td>\n",
       "      <td>33.995560</td>\n",
       "      <td>-118.481552</td>\n",
       "      <td>13874</td>\n",
       "      <td>1</td>\n",
       "      <td>Round Trip</td>\n",
       "      <td>Walk-up</td>\n",
       "      <td>standard</td>\n",
       "    </tr>\n",
       "  </tbody>\n",
       "</table>\n",
       "</div>"
      ],
      "text/plain": [
       "       trip_id  duration      start_time        end_time  start_station  \\\n",
       "46   342192543      1440   1/1/2024 1:48   1/2/2024 9:10           3027   \n",
       "73   342053085       858   1/1/2024 3:20  1/1/2024 17:38           4483   \n",
       "185  342255606      1440  1/1/2024 10:45  1/2/2024 14:15           4566   \n",
       "203  342488299      1440  1/1/2024 11:05   1/3/2024 9:56           4544   \n",
       "331  342138627       833  1/1/2024 12:29   1/2/2024 2:22           4214   \n",
       "\n",
       "     start_lat   start_lon  end_station    end_lat     end_lon  bike_id  \\\n",
       "46   34.049980 -118.247162         3000        NaN         NaN    22219   \n",
       "73   34.100700 -118.259117         4455  34.109360 -118.271812    20120   \n",
       "185  34.023392 -118.399223         4558  34.025688 -118.395302    21930   \n",
       "203  33.928459 -118.435204         3000        NaN         NaN    24843   \n",
       "331  33.995560 -118.481552         4214  33.995560 -118.481552    13874   \n",
       "\n",
       "     plan_duration trip_route_category passholder_type bike_type  \n",
       "46               1             One Way         Walk-up  electric  \n",
       "73               1             One Way    One Day Pass  standard  \n",
       "185              1             One Way         Walk-up  electric  \n",
       "203              1             One Way         Walk-up  electric  \n",
       "331              1          Round Trip         Walk-up  standard  "
      ]
     },
     "execution_count": 18,
     "metadata": {},
     "output_type": "execute_result"
    }
   ],
   "source": [
    "long_trips = bike_data[bike_data['duration'] > 600]\n",
    "print(\"Number of trips longer than 10 minutes:\", long_trips.shape[0])\n",
    "\n",
    "# Display the first few rows of the filtered data\n",
    "long_trips.head()"
   ]
  }
 ],
 "metadata": {
  "kernelspec": {
   "display_name": "Python 3 (ipykernel)",
   "language": "python",
   "name": "python3"
  },
  "language_info": {
   "codemirror_mode": {
    "name": "ipython",
    "version": 3
   },
   "file_extension": ".py",
   "mimetype": "text/x-python",
   "name": "python",
   "nbconvert_exporter": "python",
   "pygments_lexer": "ipython3",
   "version": "3.11.9"
  }
 },
 "nbformat": 4,
 "nbformat_minor": 5
}
