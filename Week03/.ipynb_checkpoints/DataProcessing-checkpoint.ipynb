{
 "cells": [
  {
   "cell_type": "code",
   "execution_count": 25,
   "id": "9ec7f9be-2277-4e4f-8b6b-3397a7d460c3",
   "metadata": {},
   "outputs": [
    {
     "name": "stdout",
     "output_type": "stream",
     "text": [
      "Original Census_Tract_Name:\n",
      "0    Census Tract 1011.10; Los Angeles County; Cali...\n",
      "1    Census Tract 1011.22; Los Angeles County; Cali...\n",
      "2    Census Tract 1012.20; Los Angeles County; Cali...\n",
      "3    Census Tract 1012.21; Los Angeles County; Cali...\n",
      "4    Census Tract 1012.22; Los Angeles County; Cali...\n",
      "5    Census Tract 1013; Los Angeles County; Califor...\n",
      "6    Census Tract 1014; Los Angeles County; Califor...\n",
      "7    Census Tract 1021.03; Los Angeles County; Cali...\n",
      "8    Census Tract 1021.04; Los Angeles County; Cali...\n",
      "9    Census Tract 1021.05; Los Angeles County; Cali...\n",
      "Name: Census_Tract_Name, dtype: object\n"
     ]
    }
   ],
   "source": [
    "import pandas as pd\n",
    "import geopandas as gpd\n",
    "import re\n",
    "\n",
    "# Load the population data\n",
    "population_file = \"23_LA_Population.csv\"  # Update this with your file path\n",
    "population_data = pd.read_csv(population_file)\n",
    "\n",
    "# Step 1: Print the original data to inspect the format of the Census_Tract_Name column\n",
    "print(\"Original Census_Tract_Name:\")\n",
    "print(population_data[\"Census_Tract_Name\"].head(10))\n"
   ]
  },
  {
   "cell_type": "code",
   "execution_count": 26,
   "id": "d6fde816-e241-49d1-b061-c721591e686a",
   "metadata": {},
   "outputs": [
    {
     "name": "stdout",
     "output_type": "stream",
     "text": [
      "Extracted Census_Tract_Name:\n",
      "   Census_Tract_Name Total population\n",
      "0            1011.10            4,152\n",
      "1            1011.22            4,198\n",
      "2            1012.20            3,434\n",
      "3            1012.21            3,931\n",
      "4            1012.22            2,572\n",
      "5               1013            4,210\n",
      "6               1014            3,489\n",
      "7            1021.03            2,054\n",
      "8            1021.04            4,052\n",
      "9            1021.05            1,664\n",
      "10           1021.07            3,595\n",
      "11           1031.01            2,705\n",
      "12           1031.02            4,468\n",
      "13           1032.01            4,425\n",
      "14           1032.02            1,945\n"
     ]
    }
   ],
   "source": [
    "# Step 2: Define a function to extract numeric parts with decimals from Census_Tract_Name\n",
    "def extract_numeric_with_decimal(name):\n",
    "    \"\"\"\n",
    "    Extract numeric parts (including decimals) from the Census_Tract_Name field.\n",
    "    Example: 'Census Tract 1011.10; Los Angeles County; California' -> '1011.10'\n",
    "    \"\"\"\n",
    "    if pd.isnull(name):  # Return None if the value is null\n",
    "        return None\n",
    "    # Match the numeric part after \"Census Tract\"\n",
    "    match = re.search(r\"Census Tract (\\d+\\.\\d+|\\d+)\", name)\n",
    "    return match.group(1) if match else None\n",
    "\n",
    "# Step 3: Apply the extraction function to the Census_Tract_Name column\n",
    "population_data[\"Census_Tract_Name\"] = population_data[\"Census_Tract_Name\"].apply(extract_numeric_with_decimal)\n",
    "\n",
    "# Step 4: Print the extracted values to confirm the results\n",
    "print(\"Extracted Census_Tract_Name:\")\n",
    "print(population_data.head(15))"
   ]
  },
  {
   "cell_type": "code",
   "execution_count": null,
   "id": "1256fece-6ca8-48d1-b57c-8dd8e0599bcf",
   "metadata": {},
   "outputs": [],
   "source": []
  }
 ],
 "metadata": {
  "kernelspec": {
   "display_name": "Python 3 (ipykernel)",
   "language": "python",
   "name": "python3"
  },
  "language_info": {
   "codemirror_mode": {
    "name": "ipython",
    "version": 3
   },
   "file_extension": ".py",
   "mimetype": "text/x-python",
   "name": "python",
   "nbconvert_exporter": "python",
   "pygments_lexer": "ipython3",
   "version": "3.11.9"
  }
 },
 "nbformat": 4,
 "nbformat_minor": 5
}
